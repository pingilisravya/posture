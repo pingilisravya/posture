{
 "cells": [
  {
   "cell_type": "code",
   "execution_count": 1,
   "id": "0a3d5d22",
   "metadata": {},
   "outputs": [],
   "source": [
    "import mediapipe as mep"
   ]
  },
  {
   "cell_type": "code",
   "execution_count": 2,
   "id": "f5023ce9",
   "metadata": {},
   "outputs": [],
   "source": [
    "import cv2"
   ]
  },
  {
   "cell_type": "code",
   "execution_count": 3,
   "id": "219b6cdf",
   "metadata": {},
   "outputs": [],
   "source": [
    "import numpy as np\n",
    "import pandas as pd"
   ]
  },
  {
   "cell_type": "code",
   "execution_count": 4,
   "id": "b9e7fc8c",
   "metadata": {},
   "outputs": [],
   "source": [
    "mep_drw = mep.solutions.drawing_utils\n",
    "mep_ps = mep.solutions.pose\n",
    "\n",
    "def cal_angle(a,b,c):\n",
    "    a=np.array(a)\n",
    "    b=np.array(b)\n",
    "    c=np.array(c)\n",
    "    \n",
    "    radians=np.arctan2(c[1]-b[1],c[0]-b[0]) - np.arctan2(a[1]-b[1],a[0]-b[0])\n",
    "    angle=np.abs(radians*180.0/np.pi)\n",
    "    \n",
    "    if angle>180.0:\n",
    "        angle=360-angle\n",
    "    \n",
    "    return angle"
   ]
  },
  {
   "cell_type": "code",
   "execution_count": 5,
   "id": "83b341a0",
   "metadata": {},
   "outputs": [
    {
     "data": {
      "text/plain": [
       "<module 'mediapipe.python.solutions.pose' from 'C:\\\\Users\\\\p\\\\OneDrive\\\\anaconda\\\\lib\\\\site-packages\\\\mediapipe\\\\python\\\\solutions\\\\pose.py'>"
      ]
     },
     "execution_count": 5,
     "metadata": {},
     "output_type": "execute_result"
    }
   ],
   "source": [
    "mep_ps"
   ]
  },
  {
   "cell_type": "code",
   "execution_count": 6,
   "id": "fa2c1359",
   "metadata": {},
   "outputs": [],
   "source": [
    "capt = cv2.VideoCapture(0)\n",
    "with mep_ps.Pose(min_detection_confidence=0.5,min_tracking_confidence=0.5) as pose:\n",
    "    while True:\n",
    "        ret, frame = capt.read()\n",
    "        im = cv2.cvtColor(frame,cv2.COLOR_BGR2RGB)\n",
    "        im.flags.writeable = False\n",
    "        re = pose.process(im)\n",
    "        im.flags.writeable = True\n",
    "        im = cv2.cvtColor(im,cv2.COLOR_RGB2BGR)\n",
    "        #extract landmarks\n",
    "        try:\n",
    "            landmarks = re.pose_landmarks.landmark\n",
    "            #get cord\n",
    "            rt_hip = [landmarks[mep_ps.PoseLandmark.RIGHT_HIP].x,landmarks[mep_ps.PoseLandmark.RIGHT_HIP].y]\n",
    "            rt_kne = [landmarks[mep_ps.PoseLandmark.RIGHT_KNEE].x,landmarks[mep_ps.PoseLandmark.RIGHT_KNEE].y]\n",
    "            rt_toe = [landmarks[mep_ps.PoseLandmark.RIGHT_HEEL].x,landmarks[mep_ps.PoseLandmark.RIGHT_HEEL].y]\n",
    "            \n",
    "            lt_hip = [landmarks[mep_ps.PoseLandmark.LEFT_HIP].x,landmarks[mep_ps.PoseLandmark.LEFT_HIP].y]\n",
    "            lt_kne = [landmarks[mep_ps.PoseLandmark.LEFT_KNEE].x,landmarks[mep_ps.PoseLandmark.LEFT_KNEE].y]\n",
    "            lt_toe = [landmarks[mep_ps.PoseLandmark.LEFT_HEEL].x,landmarks[mep_ps.PoseLandmark.LEFT_HEEL].y]\n",
    "            \n",
    "            \n",
    "            #Cal ang\n",
    "            rt_angle = cal_angle(rt_hip,rt_knw,rt_toe)\n",
    "            cv2.putText(im,str(angle),tuple(np.multiply(lb,[640,480]).astype(int)),cv2.FONT_HERSHEY_SIMPLEX,0.5,(255,255,255),2,cv2.LINE_AA\n",
    "                       \n",
    "                       )\n",
    "            lt_angle = cal_angle(lt_hip,lt_kne,lt_toe)\n",
    "            cv2.putText(im,str(angle2),tuple(np.multiply(kne,[640,480]).astype(int)),cv2.FONT_HERSHEY_SIMPLEX,0.5,(255,255,255),2,cv2.LINE_AA\n",
    "                       \n",
    "                       )\n",
    "            \n",
    "                \n",
    "        except:\n",
    "            pass\n",
    "        mep_drw.draw_landmarks(im,re.pose_landmarks,mep_ps.POSE_CONNECTIONS,\n",
    "                             mep_drw.DrawingSpec(color=(245,117,66),thickness=2,\n",
    "                                          circle_radius=2),mep_drw.DrawingSpec(color=(266,167,56),thickness=2,\n",
    "                                          circle_radius=2))\n",
    "        #print(res)\n",
    "        cv2.imshow('Video',im)\n",
    "        key = cv2.waitKey(1) & 0xFF\n",
    "\n",
    "        if key == ord(\"q\"):\n",
    "            break\n",
    "capt.release()\n",
    "cv2.destroyAllWindows()"
   ]
  },
  {
   "cell_type": "code",
   "execution_count": 7,
   "id": "cb1ec04e",
   "metadata": {},
   "outputs": [
    {
     "data": {
      "text/plain": [
       "[x: 0.45636096596717834\n",
       "y: 0.718473494052887\n",
       "z: -1.3522794246673584\n",
       "visibility: 0.9971486926078796\n",
       ", x: 0.4782721996307373\n",
       "y: 0.6286859512329102\n",
       "z: -1.2704946994781494\n",
       "visibility: 0.9965251088142395\n",
       ", x: 0.49713462591171265\n",
       "y: 0.6236154437065125\n",
       "z: -1.2711182832717896\n",
       "visibility: 0.9970744848251343\n",
       ", x: 0.5130006670951843\n",
       "y: 0.619925320148468\n",
       "z: -1.2713892459869385\n",
       "visibility: 0.9963311553001404\n",
       ", x: 0.4051899015903473\n",
       "y: 0.6527110934257507\n",
       "z: -1.2702564001083374\n",
       "visibility: 0.9965054392814636\n",
       ", x: 0.3799877166748047\n",
       "y: 0.6616848111152649\n",
       "z: -1.2701199054718018\n",
       "visibility: 0.9970315098762512\n",
       ", x: 0.35976147651672363\n",
       "y: 0.6694355607032776\n",
       "z: -1.2707947492599487\n",
       "visibility: 0.9966229796409607\n",
       ", x: 0.5364066362380981\n",
       "y: 0.6462463140487671\n",
       "z: -0.7319626808166504\n",
       "visibility: 0.9977000951766968\n",
       ", x: 0.33180302381515503\n",
       "y: 0.7119211554527283\n",
       "z: -0.7168235778808594\n",
       "visibility: 0.9972473382949829\n",
       ", x: 0.5034778118133545\n",
       "y: 0.7891870141029358\n",
       "z: -1.1472059488296509\n",
       "visibility: 0.997083842754364\n",
       ", x: 0.41961580514907837\n",
       "y: 0.8146058320999146\n",
       "z: -1.143203616142273\n",
       "visibility: 0.9967595934867859\n",
       ", x: 0.7739129662513733\n",
       "y: 1.0321664810180664\n",
       "z: -0.4399806559085846\n",
       "visibility: 0.9484012126922607\n",
       ", x: 0.25490230321884155\n",
       "y: 1.119424819946289\n",
       "z: -0.4187081456184387\n",
       "visibility: 0.9408071637153625\n",
       ", x: 0.9263348579406738\n",
       "y: 1.4003287553787231\n",
       "z: -0.6835610866546631\n",
       "visibility: 0.0712783932685852\n",
       ", x: 0.20076856017112732\n",
       "y: 1.5669567584991455\n",
       "z: -0.6616963148117065\n",
       "visibility: 0.07423771172761917\n",
       ", x: 0.8764742016792297\n",
       "y: 1.7156422138214111\n",
       "z: -1.2809898853302002\n",
       "visibility: 0.06071098521351814\n",
       ", x: 0.28804928064346313\n",
       "y: 1.8318406343460083\n",
       "z: -1.5191916227340698\n",
       "visibility: 0.03066333383321762\n",
       ", x: 0.893591582775116\n",
       "y: 1.8336689472198486\n",
       "z: -1.4482662677764893\n",
       "visibility: 0.07606809586286545\n",
       ", x: 0.2982924282550812\n",
       "y: 1.9474831819534302\n",
       "z: -1.731579065322876\n",
       "visibility: 0.04660122096538544\n",
       ", x: 0.8392763137817383\n",
       "y: 1.810948133468628\n",
       "z: -1.5045626163482666\n",
       "visibility: 0.09603425115346909\n",
       ", x: 0.33117932081222534\n",
       "y: 1.9129756689071655\n",
       "z: -1.800539255142212\n",
       "visibility: 0.07209014147520065\n",
       ", x: 0.8222177624702454\n",
       "y: 1.7660807371139526\n",
       "z: -1.3306909799575806\n",
       "visibility: 0.08824948221445084\n",
       ", x: 0.33531105518341064\n",
       "y: 1.8640207052230835\n",
       "z: -1.579498529434204\n",
       "visibility: 0.06474629789590836\n",
       ", x: 0.7538942694664001\n",
       "y: 1.9765961170196533\n",
       "z: -0.08719919621944427\n",
       "visibility: 0.00139795639552176\n",
       ", x: 0.41727179288864136\n",
       "y: 2.0174806118011475\n",
       "z: 0.09280567616224289\n",
       "visibility: 0.001233920338563621\n",
       ", x: 0.7969865798950195\n",
       "y: 2.6912944316864014\n",
       "z: -0.3374773859977722\n",
       "visibility: 0.006988763343542814\n",
       ", x: 0.4888702929019928\n",
       "y: 2.700927257537842\n",
       "z: -0.2686900198459625\n",
       "visibility: 0.0023562998976558447\n",
       ", x: 0.8545049428939819\n",
       "y: 3.3555853366851807\n",
       "z: 0.16736838221549988\n",
       "visibility: 0.0005096259992569685\n",
       ", x: 0.5506752729415894\n",
       "y: 3.3729255199432373\n",
       "z: 0.014083357527852058\n",
       "visibility: 0.0001226777385454625\n",
       ", x: 0.871965765953064\n",
       "y: 3.4664227962493896\n",
       "z: 0.1711876541376114\n",
       "visibility: 0.0003520787868183106\n",
       ", x: 0.5595130920410156\n",
       "y: 3.4895756244659424\n",
       "z: 0.010742138139903545\n",
       "visibility: 0.0002263639325974509\n",
       ", x: 0.8090534210205078\n",
       "y: 3.562958240509033\n",
       "z: -0.603480875492096\n",
       "visibility: 0.0005710294935852289\n",
       ", x: 0.6018585562705994\n",
       "y: 3.5581507682800293\n",
       "z: -0.7706679105758667\n",
       "visibility: 0.0006599868647754192\n",
       "]"
      ]
     },
     "execution_count": 7,
     "metadata": {},
     "output_type": "execute_result"
    }
   ],
   "source": [
    "landmarks"
   ]
  },
  {
   "cell_type": "code",
   "execution_count": 8,
   "id": "18f0fb49",
   "metadata": {},
   "outputs": [],
   "source": [
    "a =np.multiply(rt_hip,[640,480]).astype(int)\n",
    "b = np.multiply(rt_kne,[640,480]).astype(int)\n",
    "c=np.multiply(rt_toe,[640,480]).astype(int)\n",
    "d=np.multiply(lt_hip,[640,480]).astype(int)\n",
    "e=np.multiply(lt_kne,[640,480]).astype(int)\n",
    "f= np.multiply(lt_toe,[640,480]).astype(int)"
   ]
  },
  {
   "cell_type": "code",
   "execution_count": 9,
   "id": "f3f5c99c",
   "metadata": {},
   "outputs": [],
   "source": [
    "li =[a,b,c,d,e,f]"
   ]
  },
  {
   "cell_type": "code",
   "execution_count": 10,
   "id": "9be5edd7",
   "metadata": {},
   "outputs": [],
   "source": [
    "data_frame= pd.DataFrame(data = li, columns= [\"x\", \"y\"])"
   ]
  },
  {
   "cell_type": "code",
   "execution_count": 11,
   "id": "8794daff",
   "metadata": {},
   "outputs": [
    {
     "data": {
      "text/html": [
       "<div>\n",
       "<style scoped>\n",
       "    .dataframe tbody tr th:only-of-type {\n",
       "        vertical-align: middle;\n",
       "    }\n",
       "\n",
       "    .dataframe tbody tr th {\n",
       "        vertical-align: top;\n",
       "    }\n",
       "\n",
       "    .dataframe thead th {\n",
       "        text-align: right;\n",
       "    }\n",
       "</style>\n",
       "<table border=\"1\" class=\"dataframe\">\n",
       "  <thead>\n",
       "    <tr style=\"text-align: right;\">\n",
       "      <th></th>\n",
       "      <th>x</th>\n",
       "      <th>y</th>\n",
       "    </tr>\n",
       "  </thead>\n",
       "  <tbody>\n",
       "    <tr>\n",
       "      <th>0</th>\n",
       "      <td>267</td>\n",
       "      <td>968</td>\n",
       "    </tr>\n",
       "    <tr>\n",
       "      <th>1</th>\n",
       "      <td>312</td>\n",
       "      <td>1296</td>\n",
       "    </tr>\n",
       "    <tr>\n",
       "      <th>2</th>\n",
       "      <td>358</td>\n",
       "      <td>1674</td>\n",
       "    </tr>\n",
       "    <tr>\n",
       "      <th>3</th>\n",
       "      <td>482</td>\n",
       "      <td>948</td>\n",
       "    </tr>\n",
       "    <tr>\n",
       "      <th>4</th>\n",
       "      <td>510</td>\n",
       "      <td>1291</td>\n",
       "    </tr>\n",
       "    <tr>\n",
       "      <th>5</th>\n",
       "      <td>558</td>\n",
       "      <td>1663</td>\n",
       "    </tr>\n",
       "  </tbody>\n",
       "</table>\n",
       "</div>"
      ],
      "text/plain": [
       "     x     y\n",
       "0  267   968\n",
       "1  312  1296\n",
       "2  358  1674\n",
       "3  482   948\n",
       "4  510  1291\n",
       "5  558  1663"
      ]
     },
     "execution_count": 11,
     "metadata": {},
     "output_type": "execute_result"
    }
   ],
   "source": [
    "data_frame"
   ]
  },
  {
   "cell_type": "code",
   "execution_count": 12,
   "id": "d7fa048e",
   "metadata": {},
   "outputs": [],
   "source": [
    "data_frame.to_excel('Body_Posture.xlsx')"
   ]
  },
  {
   "cell_type": "code",
   "execution_count": 13,
   "id": "1d4a1cb2",
   "metadata": {},
   "outputs": [
    {
     "data": {
      "text/plain": [
       "array([267, 968])"
      ]
     },
     "execution_count": 13,
     "metadata": {},
     "output_type": "execute_result"
    }
   ],
   "source": [
    "landmarks[mep_ps.PoseLandmark.RIGHT_HIP]\n",
    "np.multiply(rt_hip,[640,480]).astype(int)"
   ]
  },
  {
   "cell_type": "code",
   "execution_count": 14,
   "id": "df9e37ae",
   "metadata": {},
   "outputs": [
    {
     "data": {
      "text/plain": [
       "array([ 312, 1296])"
      ]
     },
     "execution_count": 14,
     "metadata": {},
     "output_type": "execute_result"
    }
   ],
   "source": [
    "landmarks[mep_ps.PoseLandmark.RIGHT_KNEE]\n",
    "np.multiply(rt_kne,[640,480]).astype(int)"
   ]
  },
  {
   "cell_type": "code",
   "execution_count": 15,
   "id": "0561175c",
   "metadata": {},
   "outputs": [
    {
     "data": {
      "text/plain": [
       "array([ 358, 1674])"
      ]
     },
     "execution_count": 15,
     "metadata": {},
     "output_type": "execute_result"
    }
   ],
   "source": [
    "landmarks[mep_ps.PoseLandmark.RIGHT_HEEL]\n",
    "np.multiply(rt_toe,[640,480]).astype(int)"
   ]
  },
  {
   "cell_type": "code",
   "execution_count": 16,
   "id": "fda14c8b",
   "metadata": {},
   "outputs": [
    {
     "data": {
      "text/plain": [
       "array([482, 948])"
      ]
     },
     "execution_count": 16,
     "metadata": {},
     "output_type": "execute_result"
    }
   ],
   "source": [
    "landmarks[mep_ps.PoseLandmark.LEFT_HIP]\n",
    "np.multiply(lt_hip,[640,480]).astype(int)"
   ]
  },
  {
   "cell_type": "code",
   "execution_count": 17,
   "id": "9e50f913",
   "metadata": {},
   "outputs": [
    {
     "data": {
      "text/plain": [
       "array([ 510, 1291])"
      ]
     },
     "execution_count": 17,
     "metadata": {},
     "output_type": "execute_result"
    }
   ],
   "source": [
    "landmarks[mep_ps.PoseLandmark.LEFT_KNEE]\n",
    "np.multiply(lt_kne,[640,480]).astype(int)"
   ]
  },
  {
   "cell_type": "code",
   "execution_count": 18,
   "id": "96eed120",
   "metadata": {},
   "outputs": [
    {
     "data": {
      "text/plain": [
       "array([ 558, 1663])"
      ]
     },
     "execution_count": 18,
     "metadata": {},
     "output_type": "execute_result"
    }
   ],
   "source": [
    "landmarks[mep_ps.PoseLandmark.LEFT_HEEL]\n",
    "np.multiply(lt_toe,[640,480]).astype(int)"
   ]
  },
  {
   "cell_type": "code",
   "execution_count": null,
   "id": "690108bc",
   "metadata": {},
   "outputs": [],
   "source": []
  }
 ],
 "metadata": {
  "kernelspec": {
   "display_name": "Python 3",
   "language": "python",
   "name": "python3"
  },
  "language_info": {
   "codemirror_mode": {
    "name": "ipython",
    "version": 3
   },
   "file_extension": ".py",
   "mimetype": "text/x-python",
   "name": "python",
   "nbconvert_exporter": "python",
   "pygments_lexer": "ipython3",
   "version": "3.8.8"
  }
 },
 "nbformat": 4,
 "nbformat_minor": 5
}
